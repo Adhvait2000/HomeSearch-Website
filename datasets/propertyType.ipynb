{
 "cells": [
  {
   "cell_type": "code",
   "execution_count": 28,
   "id": "10632a4e",
   "metadata": {},
   "outputs": [],
   "source": [
    "import re\n",
    "import numpy as np\n",
    "import pandas as pd\n",
    "import datetime\n",
    "import json"
   ]
  },
  {
   "cell_type": "code",
   "execution_count": 29,
   "id": "61af6c77",
   "metadata": {},
   "outputs": [
    {
     "name": "stderr",
     "output_type": "stream",
     "text": [
      "/var/folders/mh/v81m1y250dn_0ldgm6sxc3qc0000gn/T/ipykernel_62328/226050595.py:1: DtypeWarning: Columns (6,7,8,10,11,13,14) have mixed types. Specify dtype option on import or set low_memory=False.\n",
      "  df = pd.read_csv('mainDataset.csv')\n"
     ]
    },
    {
     "data": {
      "text/html": [
       "<div>\n",
       "<style scoped>\n",
       "    .dataframe tbody tr th:only-of-type {\n",
       "        vertical-align: middle;\n",
       "    }\n",
       "\n",
       "    .dataframe tbody tr th {\n",
       "        vertical-align: top;\n",
       "    }\n",
       "\n",
       "    .dataframe thead th {\n",
       "        text-align: right;\n",
       "    }\n",
       "</style>\n",
       "<table border=\"1\" class=\"dataframe\">\n",
       "  <thead>\n",
       "    <tr style=\"text-align: right;\">\n",
       "      <th></th>\n",
       "      <th>propertyPrice</th>\n",
       "      <th>propertyType</th>\n",
       "      <th>districtNo</th>\n",
       "      <th>propertyTenure</th>\n",
       "      <th>propertyPrivatePublic</th>\n",
       "      <th>statusBuyRent</th>\n",
       "      <th>propertyLevels</th>\n",
       "      <th>propertyProjectName_x</th>\n",
       "      <th>rentalRefPeriod</th>\n",
       "      <th>rentalPriceSqft</th>\n",
       "      <th>propertyProjectName_y</th>\n",
       "      <th>propertyDeveloperName_x</th>\n",
       "      <th>propertyUnitsAvail_x</th>\n",
       "      <th>propertyProjectName</th>\n",
       "      <th>propertyDeveloperName_y</th>\n",
       "      <th>propertyUnitsAvail_y</th>\n",
       "    </tr>\n",
       "  </thead>\n",
       "  <tbody>\n",
       "    <tr>\n",
       "      <th>0</th>\n",
       "      <td>4600000.0</td>\n",
       "      <td>Terrace</td>\n",
       "      <td>5</td>\n",
       "      <td>999.0</td>\n",
       "      <td>Private</td>\n",
       "      <td>Buy</td>\n",
       "      <td>NaN</td>\n",
       "      <td>NaN</td>\n",
       "      <td>NaN</td>\n",
       "      <td>NaN</td>\n",
       "      <td>Normanton Park</td>\n",
       "      <td>Kingsford Huray Development Pte Ltd</td>\n",
       "      <td>1862.0</td>\n",
       "      <td>NaN</td>\n",
       "      <td>NaN</td>\n",
       "      <td>NaN</td>\n",
       "    </tr>\n",
       "    <tr>\n",
       "      <th>1</th>\n",
       "      <td>4600000.0</td>\n",
       "      <td>Terrace</td>\n",
       "      <td>5</td>\n",
       "      <td>999.0</td>\n",
       "      <td>Private</td>\n",
       "      <td>Buy</td>\n",
       "      <td>NaN</td>\n",
       "      <td>NaN</td>\n",
       "      <td>NaN</td>\n",
       "      <td>NaN</td>\n",
       "      <td>Kent Ridge Hill Residences</td>\n",
       "      <td>Oxley Spinel Pte Ltd</td>\n",
       "      <td>548.0</td>\n",
       "      <td>NaN</td>\n",
       "      <td>NaN</td>\n",
       "      <td>NaN</td>\n",
       "    </tr>\n",
       "    <tr>\n",
       "      <th>2</th>\n",
       "      <td>4600000.0</td>\n",
       "      <td>Terrace</td>\n",
       "      <td>5</td>\n",
       "      <td>999.0</td>\n",
       "      <td>Private</td>\n",
       "      <td>Buy</td>\n",
       "      <td>NaN</td>\n",
       "      <td>NaN</td>\n",
       "      <td>NaN</td>\n",
       "      <td>NaN</td>\n",
       "      <td>Parc Clematis</td>\n",
       "      <td>Sing-Haiyi Gold Pte Ltd</td>\n",
       "      <td>1468.0</td>\n",
       "      <td>NaN</td>\n",
       "      <td>NaN</td>\n",
       "      <td>NaN</td>\n",
       "    </tr>\n",
       "    <tr>\n",
       "      <th>3</th>\n",
       "      <td>4600000.0</td>\n",
       "      <td>Terrace</td>\n",
       "      <td>5</td>\n",
       "      <td>999.0</td>\n",
       "      <td>Private</td>\n",
       "      <td>Buy</td>\n",
       "      <td>NaN</td>\n",
       "      <td>NaN</td>\n",
       "      <td>NaN</td>\n",
       "      <td>NaN</td>\n",
       "      <td>Terra Hill</td>\n",
       "      <td>Hoi Hup Sunway Kent Ridge Pte Ltd</td>\n",
       "      <td>270.0</td>\n",
       "      <td>NaN</td>\n",
       "      <td>NaN</td>\n",
       "      <td>NaN</td>\n",
       "    </tr>\n",
       "    <tr>\n",
       "      <th>4</th>\n",
       "      <td>4600000.0</td>\n",
       "      <td>Terrace</td>\n",
       "      <td>5</td>\n",
       "      <td>999.0</td>\n",
       "      <td>Private</td>\n",
       "      <td>Buy</td>\n",
       "      <td>NaN</td>\n",
       "      <td>NaN</td>\n",
       "      <td>NaN</td>\n",
       "      <td>NaN</td>\n",
       "      <td>Clavon</td>\n",
       "      <td>United Venture Development (Clementi 1) Pte Ltd</td>\n",
       "      <td>640.0</td>\n",
       "      <td>NaN</td>\n",
       "      <td>NaN</td>\n",
       "      <td>NaN</td>\n",
       "    </tr>\n",
       "  </tbody>\n",
       "</table>\n",
       "</div>"
      ],
      "text/plain": [
       "   propertyPrice propertyType  districtNo  propertyTenure  \\\n",
       "0      4600000.0      Terrace           5           999.0   \n",
       "1      4600000.0      Terrace           5           999.0   \n",
       "2      4600000.0      Terrace           5           999.0   \n",
       "3      4600000.0      Terrace           5           999.0   \n",
       "4      4600000.0      Terrace           5           999.0   \n",
       "\n",
       "  propertyPrivatePublic statusBuyRent propertyLevels propertyProjectName_x  \\\n",
       "0               Private           Buy            NaN                   NaN   \n",
       "1               Private           Buy            NaN                   NaN   \n",
       "2               Private           Buy            NaN                   NaN   \n",
       "3               Private           Buy            NaN                   NaN   \n",
       "4               Private           Buy            NaN                   NaN   \n",
       "\n",
       "  rentalRefPeriod  rentalPriceSqft       propertyProjectName_y  \\\n",
       "0             NaN              NaN              Normanton Park   \n",
       "1             NaN              NaN  Kent Ridge Hill Residences   \n",
       "2             NaN              NaN               Parc Clematis   \n",
       "3             NaN              NaN                  Terra Hill   \n",
       "4             NaN              NaN                      Clavon   \n",
       "\n",
       "                           propertyDeveloperName_x  propertyUnitsAvail_x  \\\n",
       "0              Kingsford Huray Development Pte Ltd                1862.0   \n",
       "1                             Oxley Spinel Pte Ltd                 548.0   \n",
       "2                          Sing-Haiyi Gold Pte Ltd                1468.0   \n",
       "3                Hoi Hup Sunway Kent Ridge Pte Ltd                 270.0   \n",
       "4  United Venture Development (Clementi 1) Pte Ltd                 640.0   \n",
       "\n",
       "  propertyProjectName propertyDeveloperName_y  propertyUnitsAvail_y  \n",
       "0                 NaN                     NaN                   NaN  \n",
       "1                 NaN                     NaN                   NaN  \n",
       "2                 NaN                     NaN                   NaN  \n",
       "3                 NaN                     NaN                   NaN  \n",
       "4                 NaN                     NaN                   NaN  "
      ]
     },
     "execution_count": 29,
     "metadata": {},
     "output_type": "execute_result"
    }
   ],
   "source": [
    "df = pd.read_csv('mainDataset.csv')\n",
    "df.head()"
   ]
  },
  {
   "cell_type": "code",
   "execution_count": 30,
   "id": "7ab77076",
   "metadata": {},
   "outputs": [
    {
     "name": "stdout",
     "output_type": "stream",
     "text": [
      "(54,)\n",
      "<class 'list'>\n"
     ]
    }
   ],
   "source": [
    "#Trying to list the number of houses with particular property type\n",
    "\n",
    "#Extracting propertyType columns\n",
    "myList = df['propertyType'].unique()\n",
    "type(myList)\n",
    "print(myList.shape)\n",
    "\n",
    "#Converting to Python list\n",
    "myList = np.ndarray.tolist(myList)\n",
    "print(type(myList))"
   ]
  },
  {
   "cell_type": "code",
   "execution_count": 31,
   "id": "976607bf",
   "metadata": {},
   "outputs": [
    {
     "name": "stdout",
     "output_type": "stream",
     "text": [
      "['Terrace', 'Strata Terrace', 'Semi-detached', 'Apartment', 'Detached', 'Condominium', 'Strata Semi-detached', 'Strata Detached', 'Improved 2 ROOM', 'New Generation 3 ROOM', 'New Generation 4 ROOM', 'DBSS 4 ROOM', 'Standard 5 ROOM', 'Improved 5 ROOM', 'DBSS 5 ROOM', 'Apartment EXECUTIVE', 'Maisonette EXECUTIVE', 'Improved 3 ROOM', 'Simplified 3 ROOM', 'Simplified 4 ROOM', 'Model A 4 ROOM', 'Model A 5 ROOM', 'Model A 3 ROOM', 'Premium Apartment 4 ROOM', 'Premium Apartment 5 ROOM', 'Adjoined flat EXECUTIVE', 'Adjoined flat 5 ROOM', 'Improved 4 ROOM', 'Multi Generation MULTI-GENERATION', 'Model A-Maisonette 5 ROOM', 'DBSS 3 ROOM', 'Model A 2 ROOM', 'Premium Apartment 3 ROOM', 'Premium Apartment EXECUTIVE', 'Model A2 4 ROOM', 'Premium Maisonette EXECUTIVE', '2-room 2 ROOM', 'Standard 3 ROOM', 'Standard 2 ROOM', 'Adjoined flat 4 ROOM', 'Standard 4 ROOM', 'Improved-Maisonette 5 ROOM', 'Premium Apartment Loft 5 ROOM', 'Terrace 3 ROOM', 'Terrace 4 ROOM', 'Premium Apartment Loft 4 ROOM', 'Premium Apartment 2 ROOM', 'DBSS 2 ROOM', nan, 'Non-Landed', 'Strata-Landed / Non-Landed', 'Landed', 'Exec Condo', 'Strata-Landed']\n"
     ]
    }
   ],
   "source": [
    "print(myList)"
   ]
  },
  {
   "cell_type": "code",
   "execution_count": 32,
   "id": "633e3096",
   "metadata": {},
   "outputs": [
    {
     "name": "stdout",
     "output_type": "stream",
     "text": [
      "propertyType                     \n",
      "Apartment                            81155\n",
      "Condominium                          22322\n",
      "Model A 4 ROOM                       21598\n",
      "Improved 5 ROOM                      15882\n",
      "New Generation 3 ROOM                 8066\n",
      "Premium Apartment 4 ROOM              5189\n",
      "Model A 3 ROOM                        5150\n",
      "New Generation 4 ROOM                 4611\n",
      "Improved 3 ROOM                       3983\n",
      "Apartment EXECUTIVE                   3725\n",
      "Premium Apartment 5 ROOM              3594\n",
      "Maisonette EXECUTIVE                  2754\n",
      "Simplified 4 ROOM                     2646\n",
      "Model A2 4 ROOM                       1148\n",
      "Model A 5 ROOM                        1127\n",
      "Terrace                                965\n",
      "Simplified 3 ROOM                      884\n",
      "Standard 3 ROOM                        865\n",
      "Strata Terrace                         850\n",
      "Premium Apartment EXECUTIVE            847\n",
      "Model A 2 ROOM                         834\n",
      "DBSS 5 ROOM                            780\n",
      "Standard 5 ROOM                        754\n",
      "DBSS 4 ROOM                            691\n",
      "Improved 4 ROOM                        635\n",
      "Semi-detached                          474\n",
      "Premium Apartment 3 ROOM               390\n",
      "Non-Landed                             360\n",
      "Detached                               223\n",
      "Improved 2 ROOM                        214\n",
      "DBSS 3 ROOM                            207\n",
      "Standard 2 ROOM                        193\n",
      "Model A-Maisonette 5 ROOM              181\n",
      "Adjoined flat 5 ROOM                    87\n",
      "Adjoined flat EXECUTIVE                 67\n",
      "Multi Generation MULTI-GENERATION       46\n",
      "Strata Detached                         38\n",
      "Landed                                  32\n",
      "Strata Semi-detached                    30\n",
      "Premium Apartment Loft 4 ROOM           24\n",
      "Exec Condo                              24\n",
      "Premium Apartment 2 ROOM                19\n",
      "Strata-Landed / Non-Landed              18\n",
      "Improved-Maisonette 5 ROOM              18\n",
      "Premium Maisonette EXECUTIVE            11\n",
      "Strata-Landed                           11\n",
      "Adjoined flat 4 ROOM                    10\n",
      "Premium Apartment Loft 5 ROOM            9\n",
      "Terrace 3 ROOM                           7\n",
      "2-room 2 ROOM                            6\n",
      "Standard 4 ROOM                          3\n",
      "Terrace 4 ROOM                           2\n",
      "DBSS 2 ROOM                              1\n",
      "dtype: int64\n"
     ]
    }
   ],
   "source": [
    "newList = (df.value_counts(['propertyType']))\n",
    "print(newList)"
   ]
  },
  {
   "cell_type": "code",
   "execution_count": 33,
   "id": "a559b963",
   "metadata": {},
   "outputs": [
    {
     "data": {
      "text/plain": [
       "propertyType         \n",
       "Apartment                81155\n",
       "Condominium              22322\n",
       "Model A 4 ROOM           21598\n",
       "Improved 5 ROOM          15882\n",
       "New Generation 3 ROOM     8066\n",
       "dtype: int64"
      ]
     },
     "execution_count": 33,
     "metadata": {},
     "output_type": "execute_result"
    }
   ],
   "source": [
    "newList.head()"
   ]
  },
  {
   "cell_type": "code",
   "execution_count": 34,
   "id": "614ed40f",
   "metadata": {},
   "outputs": [
    {
     "name": "stdout",
     "output_type": "stream",
     "text": [
      "<class 'pandas.core.series.Series'>\n"
     ]
    }
   ],
   "source": [
    "print(type(newList))\n"
   ]
  },
  {
   "cell_type": "code",
   "execution_count": 35,
   "id": "375c6b4d",
   "metadata": {},
   "outputs": [],
   "source": [
    "#Converting newList to dictionary\n",
    "\n",
    "newList.index = [x[0] for x in newList.index]\n",
    "\n",
    "# convert to dictionary\n",
    "newDict = newList.to_dict()"
   ]
  },
  {
   "cell_type": "code",
   "execution_count": 36,
   "id": "e15c7e6c",
   "metadata": {},
   "outputs": [
    {
     "data": {
      "text/plain": [
       "{'Apartment': 81155,\n",
       " 'Condominium': 22322,\n",
       " 'Model A 4 ROOM': 21598,\n",
       " 'Improved 5 ROOM': 15882,\n",
       " 'New Generation 3 ROOM': 8066,\n",
       " 'Premium Apartment 4 ROOM': 5189,\n",
       " 'Model A 3 ROOM': 5150,\n",
       " 'New Generation 4 ROOM': 4611,\n",
       " 'Improved 3 ROOM': 3983,\n",
       " 'Apartment EXECUTIVE': 3725,\n",
       " 'Premium Apartment 5 ROOM': 3594,\n",
       " 'Maisonette EXECUTIVE': 2754,\n",
       " 'Simplified 4 ROOM': 2646,\n",
       " 'Model A2 4 ROOM': 1148,\n",
       " 'Model A 5 ROOM': 1127,\n",
       " 'Terrace': 965,\n",
       " 'Simplified 3 ROOM': 884,\n",
       " 'Standard 3 ROOM': 865,\n",
       " 'Strata Terrace': 850,\n",
       " 'Premium Apartment EXECUTIVE': 847,\n",
       " 'Model A 2 ROOM': 834,\n",
       " 'DBSS 5 ROOM': 780,\n",
       " 'Standard 5 ROOM': 754,\n",
       " 'DBSS 4 ROOM': 691,\n",
       " 'Improved 4 ROOM': 635,\n",
       " 'Semi-detached': 474,\n",
       " 'Premium Apartment 3 ROOM': 390,\n",
       " 'Non-Landed': 360,\n",
       " 'Detached': 223,\n",
       " 'Improved 2 ROOM': 214,\n",
       " 'DBSS 3 ROOM': 207,\n",
       " 'Standard 2 ROOM': 193,\n",
       " 'Model A-Maisonette 5 ROOM': 181,\n",
       " 'Adjoined flat 5 ROOM': 87,\n",
       " 'Adjoined flat EXECUTIVE': 67,\n",
       " 'Multi Generation MULTI-GENERATION': 46,\n",
       " 'Strata Detached': 38,\n",
       " 'Landed': 32,\n",
       " 'Strata Semi-detached': 30,\n",
       " 'Premium Apartment Loft 4 ROOM': 24,\n",
       " 'Exec Condo': 24,\n",
       " 'Premium Apartment 2 ROOM': 19,\n",
       " 'Strata-Landed / Non-Landed': 18,\n",
       " 'Improved-Maisonette 5 ROOM': 18,\n",
       " 'Premium Maisonette EXECUTIVE': 11,\n",
       " 'Strata-Landed': 11,\n",
       " 'Adjoined flat 4 ROOM': 10,\n",
       " 'Premium Apartment Loft 5 ROOM': 9,\n",
       " 'Terrace 3 ROOM': 7,\n",
       " '2-room 2 ROOM': 6,\n",
       " 'Standard 4 ROOM': 3,\n",
       " 'Terrace 4 ROOM': 2,\n",
       " 'DBSS 2 ROOM': 1}"
      ]
     },
     "execution_count": 36,
     "metadata": {},
     "output_type": "execute_result"
    }
   ],
   "source": [
    "newDict"
   ]
  },
  {
   "cell_type": "code",
   "execution_count": 37,
   "id": "6e345d86",
   "metadata": {},
   "outputs": [],
   "source": [
    "#Converting newDict to json\n",
    "with open('newDict.json', 'w') as json_file:\n",
    "    json.dump(newDict, json_file)\n"
   ]
  },
  {
   "cell_type": "code",
   "execution_count": null,
   "id": "b1244a97",
   "metadata": {},
   "outputs": [],
   "source": []
  }
 ],
 "metadata": {
  "kernelspec": {
   "display_name": "Python 3.11.2 64-bit",
   "language": "python",
   "name": "python3"
  },
  "language_info": {
   "codemirror_mode": {
    "name": "ipython",
    "version": 3
   },
   "file_extension": ".py",
   "mimetype": "text/x-python",
   "name": "python",
   "nbconvert_exporter": "python",
   "pygments_lexer": "ipython3",
   "version": "3.11.2"
  },
  "vscode": {
   "interpreter": {
    "hash": "b0fa6594d8f4cbf19f97940f81e996739fb7646882a419484c72d19e05852a7e"
   }
  }
 },
 "nbformat": 4,
 "nbformat_minor": 5
}
