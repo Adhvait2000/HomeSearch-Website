{
 "cells": [
  {
   "cell_type": "code",
   "execution_count": 6,
   "id": "37495f16",
   "metadata": {
    "scrolled": true
   },
   "outputs": [
    {
     "name": "stdout",
     "output_type": "stream",
     "text": [
      "Requirement already satisfied: numpy in /Users/dhairyarungta/opt/miniconda3/lib/python3.9/site-packages (1.24.2)\n",
      "Requirement already satisfied: pandas in /Users/dhairyarungta/opt/miniconda3/lib/python3.9/site-packages (1.5.3)\n",
      "Requirement already satisfied: pytz>=2020.1 in /Users/dhairyarungta/opt/miniconda3/lib/python3.9/site-packages (from pandas) (2023.2)\n",
      "Requirement already satisfied: python-dateutil>=2.8.1 in /Users/dhairyarungta/opt/miniconda3/lib/python3.9/site-packages (from pandas) (2.8.2)\n",
      "Requirement already satisfied: numpy>=1.20.3 in /Users/dhairyarungta/opt/miniconda3/lib/python3.9/site-packages (from pandas) (1.24.2)\n",
      "Requirement already satisfied: six>=1.5 in /Users/dhairyarungta/opt/miniconda3/lib/python3.9/site-packages (from python-dateutil>=2.8.1->pandas) (1.16.0)\n"
     ]
    }
   ],
   "source": [
    "!pip install numpy\n",
    "!pip install pandas\n",
    "#Importing Libraries\n",
    "import re\n",
    "import numpy as np\n",
    "import pandas as pd\n",
    "import datetime"
   ]
  },
  {
   "cell_type": "code",
   "execution_count": 13,
   "id": "dd33cdde",
   "metadata": {
    "scrolled": true
   },
   "outputs": [
    {
     "name": "stderr",
     "output_type": "stream",
     "text": [
      "/var/folders/gk/1jp_3p2j6x50bn67_rtjv0kh0000gn/T/ipykernel_72922/3472697619.py:1: DtypeWarning: Columns (6,7,8,10,11,13,14) have mixed types. Specify dtype option on import or set low_memory=False.\n",
      "  df = pd.read_csv('/Users/dhairyarungta/Downloads/mainDataset.csv')\n"
     ]
    },
    {
     "data": {
      "text/html": [
       "<div>\n",
       "<style scoped>\n",
       "    .dataframe tbody tr th:only-of-type {\n",
       "        vertical-align: middle;\n",
       "    }\n",
       "\n",
       "    .dataframe tbody tr th {\n",
       "        vertical-align: top;\n",
       "    }\n",
       "\n",
       "    .dataframe thead th {\n",
       "        text-align: right;\n",
       "    }\n",
       "</style>\n",
       "<table border=\"1\" class=\"dataframe\">\n",
       "  <thead>\n",
       "    <tr style=\"text-align: right;\">\n",
       "      <th></th>\n",
       "      <th>propertyPrice</th>\n",
       "      <th>propertyType</th>\n",
       "      <th>districtNo</th>\n",
       "      <th>propertyTenure</th>\n",
       "      <th>propertyPrivatePublic</th>\n",
       "      <th>statusBuyRent</th>\n",
       "      <th>propertyLevels</th>\n",
       "      <th>propertyProjectName_x</th>\n",
       "      <th>rentalRefPeriod</th>\n",
       "      <th>rentalPriceSqft</th>\n",
       "      <th>propertyProjectName_y</th>\n",
       "      <th>propertyDeveloperName_x</th>\n",
       "      <th>propertyUnitsAvail_x</th>\n",
       "      <th>propertyProjectName</th>\n",
       "      <th>propertyDeveloperName_y</th>\n",
       "      <th>propertyUnitsAvail_y</th>\n",
       "    </tr>\n",
       "  </thead>\n",
       "  <tbody>\n",
       "    <tr>\n",
       "      <th>0</th>\n",
       "      <td>4600000.0</td>\n",
       "      <td>Terrace</td>\n",
       "      <td>5</td>\n",
       "      <td>999.0</td>\n",
       "      <td>Private</td>\n",
       "      <td>Buy</td>\n",
       "      <td>NaN</td>\n",
       "      <td>NaN</td>\n",
       "      <td>NaN</td>\n",
       "      <td>NaN</td>\n",
       "      <td>Normanton Park</td>\n",
       "      <td>Kingsford Huray Development Pte Ltd</td>\n",
       "      <td>1862.0</td>\n",
       "      <td>NaN</td>\n",
       "      <td>NaN</td>\n",
       "      <td>NaN</td>\n",
       "    </tr>\n",
       "    <tr>\n",
       "      <th>1</th>\n",
       "      <td>4600000.0</td>\n",
       "      <td>Terrace</td>\n",
       "      <td>5</td>\n",
       "      <td>999.0</td>\n",
       "      <td>Private</td>\n",
       "      <td>Buy</td>\n",
       "      <td>NaN</td>\n",
       "      <td>NaN</td>\n",
       "      <td>NaN</td>\n",
       "      <td>NaN</td>\n",
       "      <td>Kent Ridge Hill Residences</td>\n",
       "      <td>Oxley Spinel Pte Ltd</td>\n",
       "      <td>548.0</td>\n",
       "      <td>NaN</td>\n",
       "      <td>NaN</td>\n",
       "      <td>NaN</td>\n",
       "    </tr>\n",
       "    <tr>\n",
       "      <th>2</th>\n",
       "      <td>4600000.0</td>\n",
       "      <td>Terrace</td>\n",
       "      <td>5</td>\n",
       "      <td>999.0</td>\n",
       "      <td>Private</td>\n",
       "      <td>Buy</td>\n",
       "      <td>NaN</td>\n",
       "      <td>NaN</td>\n",
       "      <td>NaN</td>\n",
       "      <td>NaN</td>\n",
       "      <td>Parc Clematis</td>\n",
       "      <td>Sing-Haiyi Gold Pte Ltd</td>\n",
       "      <td>1468.0</td>\n",
       "      <td>NaN</td>\n",
       "      <td>NaN</td>\n",
       "      <td>NaN</td>\n",
       "    </tr>\n",
       "    <tr>\n",
       "      <th>3</th>\n",
       "      <td>4600000.0</td>\n",
       "      <td>Terrace</td>\n",
       "      <td>5</td>\n",
       "      <td>999.0</td>\n",
       "      <td>Private</td>\n",
       "      <td>Buy</td>\n",
       "      <td>NaN</td>\n",
       "      <td>NaN</td>\n",
       "      <td>NaN</td>\n",
       "      <td>NaN</td>\n",
       "      <td>Terra Hill</td>\n",
       "      <td>Hoi Hup Sunway Kent Ridge Pte Ltd</td>\n",
       "      <td>270.0</td>\n",
       "      <td>NaN</td>\n",
       "      <td>NaN</td>\n",
       "      <td>NaN</td>\n",
       "    </tr>\n",
       "    <tr>\n",
       "      <th>4</th>\n",
       "      <td>4600000.0</td>\n",
       "      <td>Terrace</td>\n",
       "      <td>5</td>\n",
       "      <td>999.0</td>\n",
       "      <td>Private</td>\n",
       "      <td>Buy</td>\n",
       "      <td>NaN</td>\n",
       "      <td>NaN</td>\n",
       "      <td>NaN</td>\n",
       "      <td>NaN</td>\n",
       "      <td>Clavon</td>\n",
       "      <td>United Venture Development (Clementi 1) Pte Ltd</td>\n",
       "      <td>640.0</td>\n",
       "      <td>NaN</td>\n",
       "      <td>NaN</td>\n",
       "      <td>NaN</td>\n",
       "    </tr>\n",
       "  </tbody>\n",
       "</table>\n",
       "</div>"
      ],
      "text/plain": [
       "   propertyPrice propertyType  districtNo  propertyTenure  \\\n",
       "0      4600000.0      Terrace           5           999.0   \n",
       "1      4600000.0      Terrace           5           999.0   \n",
       "2      4600000.0      Terrace           5           999.0   \n",
       "3      4600000.0      Terrace           5           999.0   \n",
       "4      4600000.0      Terrace           5           999.0   \n",
       "\n",
       "  propertyPrivatePublic statusBuyRent propertyLevels propertyProjectName_x  \\\n",
       "0               Private           Buy            NaN                   NaN   \n",
       "1               Private           Buy            NaN                   NaN   \n",
       "2               Private           Buy            NaN                   NaN   \n",
       "3               Private           Buy            NaN                   NaN   \n",
       "4               Private           Buy            NaN                   NaN   \n",
       "\n",
       "  rentalRefPeriod  rentalPriceSqft       propertyProjectName_y  \\\n",
       "0             NaN              NaN              Normanton Park   \n",
       "1             NaN              NaN  Kent Ridge Hill Residences   \n",
       "2             NaN              NaN               Parc Clematis   \n",
       "3             NaN              NaN                  Terra Hill   \n",
       "4             NaN              NaN                      Clavon   \n",
       "\n",
       "                           propertyDeveloperName_x  propertyUnitsAvail_x  \\\n",
       "0              Kingsford Huray Development Pte Ltd                1862.0   \n",
       "1                             Oxley Spinel Pte Ltd                 548.0   \n",
       "2                          Sing-Haiyi Gold Pte Ltd                1468.0   \n",
       "3                Hoi Hup Sunway Kent Ridge Pte Ltd                 270.0   \n",
       "4  United Venture Development (Clementi 1) Pte Ltd                 640.0   \n",
       "\n",
       "  propertyProjectName propertyDeveloperName_y  propertyUnitsAvail_y  \n",
       "0                 NaN                     NaN                   NaN  \n",
       "1                 NaN                     NaN                   NaN  \n",
       "2                 NaN                     NaN                   NaN  \n",
       "3                 NaN                     NaN                   NaN  \n",
       "4                 NaN                     NaN                   NaN  "
      ]
     },
     "execution_count": 13,
     "metadata": {},
     "output_type": "execute_result"
    }
   ],
   "source": [
    "df = pd.read_csv('/Users/dhairyarungta/Downloads/mainDataset.csv')\n",
    "df.head()"
   ]
  },
  {
   "cell_type": "code",
   "execution_count": 18,
   "id": "de115265",
   "metadata": {
    "scrolled": true
   },
   "outputs": [
    {
     "data": {
      "text/plain": [
       "array(['Terrace', 'Strata Terrace', 'Semi-detached', 'Apartment',\n",
       "       'Detached', 'Condominium', 'Strata Semi-detached',\n",
       "       'Strata Detached', 'Improved 2 ROOM', 'New Generation 3 ROOM',\n",
       "       'New Generation 4 ROOM', 'DBSS 4 ROOM', 'Standard 5 ROOM',\n",
       "       'Improved 5 ROOM', 'DBSS 5 ROOM', 'Apartment EXECUTIVE',\n",
       "       'Maisonette EXECUTIVE', 'Improved 3 ROOM', 'Simplified 3 ROOM',\n",
       "       'Simplified 4 ROOM', 'Model A 4 ROOM', 'Model A 5 ROOM',\n",
       "       'Model A 3 ROOM', 'Premium Apartment 4 ROOM',\n",
       "       'Premium Apartment 5 ROOM', 'Adjoined flat EXECUTIVE',\n",
       "       'Adjoined flat 5 ROOM', 'Improved 4 ROOM',\n",
       "       'Multi Generation MULTI-GENERATION', 'Model A-Maisonette 5 ROOM',\n",
       "       'DBSS 3 ROOM', 'Model A 2 ROOM', 'Premium Apartment 3 ROOM',\n",
       "       'Premium Apartment EXECUTIVE', 'Model A2 4 ROOM',\n",
       "       'Premium Maisonette EXECUTIVE', '2-room 2 ROOM', 'Standard 3 ROOM',\n",
       "       'Standard 2 ROOM', 'Adjoined flat 4 ROOM', 'Standard 4 ROOM',\n",
       "       'Improved-Maisonette 5 ROOM', 'Premium Apartment Loft 5 ROOM',\n",
       "       'Terrace 3 ROOM', 'Terrace 4 ROOM',\n",
       "       'Premium Apartment Loft 4 ROOM', 'Premium Apartment 2 ROOM',\n",
       "       'DBSS 2 ROOM', nan, 'Non-Landed', 'Strata-Landed / Non-Landed',\n",
       "       'Landed', 'Exec Condo', 'Strata-Landed'], dtype=object)"
      ]
     },
     "execution_count": 18,
     "metadata": {},
     "output_type": "execute_result"
    }
   ],
   "source": [
    "myList = df['propertyType'].unique()\n",
    "myList\n"
   ]
  },
  {
   "cell_type": "code",
   "execution_count": 20,
   "id": "cdc7bda2",
   "metadata": {},
   "outputs": [
    {
     "name": "stdout",
     "output_type": "stream",
     "text": [
      "Series([], dtype: int64)\n"
     ]
    }
   ],
   "source": [
    "print(df.value_counts(''))"
   ]
  },
  {
   "cell_type": "code",
   "execution_count": null,
   "id": "1b3a12e5",
   "metadata": {},
   "outputs": [],
   "source": [
    "for i in myList \n",
    "    print(i+\": \")\n",
    "    print ()"
   ]
  }
 ],
 "metadata": {
  "kernelspec": {
   "display_name": "Python 3 (ipykernel)",
   "language": "python",
   "name": "python3"
  },
  "language_info": {
   "codemirror_mode": {
    "name": "ipython",
    "version": 3
   },
   "file_extension": ".py",
   "mimetype": "text/x-python",
   "name": "python",
   "nbconvert_exporter": "python",
   "pygments_lexer": "ipython3",
   "version": "3.9.13"
  }
 },
 "nbformat": 4,
 "nbformat_minor": 5
}
